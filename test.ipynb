{
  "nbformat": 4,
  "nbformat_minor": 0,
  "metadata": {
    "colab": {
      "provenance": [],
      "gpuType": "T4",
      "authorship_tag": "ABX9TyMtWrQkGYXQuEsAlXe79vtf",
      "include_colab_link": true
    },
    "kernelspec": {
      "name": "python3",
      "display_name": "Python 3"
    },
    "language_info": {
      "name": "python"
    },
    "accelerator": "GPU"
  },
  "cells": [
    {
      "cell_type": "markdown",
      "metadata": {
        "id": "view-in-github",
        "colab_type": "text"
      },
      "source": [
        "<a href=\"https://colab.research.google.com/github/Nomi-lpr/skills-communicate-using-markdown/blob/main/test.ipynb\" target=\"_parent\"><img src=\"https://colab.research.google.com/assets/colab-badge.svg\" alt=\"Open In Colab\"/></a>"
      ]
    },
    {
      "cell_type": "code",
      "execution_count": 4,
      "metadata": {
        "colab": {
          "base_uri": "https://localhost:8080/"
        },
        "id": "p8NXEY5ORv1c",
        "outputId": "ea11690b-24ee-45ab-844d-0318a2c99e77"
      },
      "outputs": [
        {
          "output_type": "stream",
          "name": "stdout",
          "text": [
            "Archive:  mcp-tool-api-main.zip\n",
            "ba5d5d88f7bab6f7f6d749a14d9633636c3fef94\n",
            "   creating: mcp-tool-api-main/\n",
            "  inflating: mcp-tool-api-main/.gitignore  \n",
            "   creating: mcp-tool-api-main/configs/\n",
            "  inflating: mcp-tool-api-main/configs/both_tools_config.json  \n",
            "  inflating: mcp-tool-api-main/configs/crop_only_config.json  \n",
            " extracting: mcp-tool-api-main/configs/no_tools_config.json  \n",
            "  inflating: mcp-tool-api-main/configs/video_only_config.json  \n",
            "  inflating: mcp-tool-api-main/data_postprocess.py  \n",
            "  inflating: mcp-tool-api-main/main.py  \n",
            "  inflating: mcp-tool-api-main/mcp_api_usage.py  \n",
            "  inflating: mcp-tool-api-main/mcp_utils.py  \n",
            "  inflating: mcp-tool-api-main/recheck_score.py  \n",
            "  inflating: mcp-tool-api-main/tool_test.py  \n",
            "   creating: mcp-tool-api-main/tools/\n",
            " extracting: mcp-tool-api-main/tools/__init__.py  \n",
            "  inflating: mcp-tool-api-main/tools/crop_server.py  \n",
            "  inflating: mcp-tool-api-main/tools/grounding_server.py  \n",
            "  inflating: mcp-tool-api-main/tools/video_server.py  \n",
            "   creating: mcp-tool-api-main/vsi/\n",
            "  inflating: mcp-tool-api-main/vsi/api_price_calculator.py  \n",
            "  inflating: mcp-tool-api-main/vsi/prepare.py  \n",
            "  inflating: mcp-tool-api-main/vsi/record.md  \n",
            "  inflating: mcp-tool-api-main/vsi/subset.py  \n",
            "  inflating: mcp-tool-api-main/vsi/vsi_bench_test.json  \n",
            "  inflating: mcp-tool-api-main/vsi/vsi_bench_test_cost.json  \n",
            "  inflating: mcp-tool-api-main/vsi/vsi_bench_test_subset.json  \n",
            "  inflating: mcp-tool-api-main/vsi_eval.py  \n"
          ]
        }
      ],
      "source": [
        "!unzip mcp-tool-api-main.zip"
      ]
    },
    {
      "cell_type": "code",
      "source": [],
      "metadata": {
        "id": "hK8Yecw7hoZ8"
      },
      "execution_count": null,
      "outputs": []
    },
    {
      "cell_type": "code",
      "source": [
        "!pip install openai httpx numpy decord Pillow"
      ],
      "metadata": {
        "colab": {
          "base_uri": "https://localhost:8080/"
        },
        "id": "j7SFgCTcSXBF",
        "outputId": "3bc7742f-d0b7-497b-f06c-226255025af4"
      },
      "execution_count": 6,
      "outputs": [
        {
          "output_type": "stream",
          "name": "stdout",
          "text": [
            "Requirement already satisfied: openai in /usr/local/lib/python3.11/dist-packages (1.97.1)\n",
            "Requirement already satisfied: httpx in /usr/local/lib/python3.11/dist-packages (0.28.1)\n",
            "Requirement already satisfied: numpy in /usr/local/lib/python3.11/dist-packages (2.0.2)\n",
            "Collecting decord\n",
            "  Downloading decord-0.6.0-py3-none-manylinux2010_x86_64.whl.metadata (422 bytes)\n",
            "Requirement already satisfied: Pillow in /usr/local/lib/python3.11/dist-packages (11.3.0)\n",
            "Requirement already satisfied: anyio<5,>=3.5.0 in /usr/local/lib/python3.11/dist-packages (from openai) (4.9.0)\n",
            "Requirement already satisfied: distro<2,>=1.7.0 in /usr/local/lib/python3.11/dist-packages (from openai) (1.9.0)\n",
            "Requirement already satisfied: jiter<1,>=0.4.0 in /usr/local/lib/python3.11/dist-packages (from openai) (0.10.0)\n",
            "Requirement already satisfied: pydantic<3,>=1.9.0 in /usr/local/lib/python3.11/dist-packages (from openai) (2.11.7)\n",
            "Requirement already satisfied: sniffio in /usr/local/lib/python3.11/dist-packages (from openai) (1.3.1)\n",
            "Requirement already satisfied: tqdm>4 in /usr/local/lib/python3.11/dist-packages (from openai) (4.67.1)\n",
            "Requirement already satisfied: typing-extensions<5,>=4.11 in /usr/local/lib/python3.11/dist-packages (from openai) (4.14.1)\n",
            "Requirement already satisfied: certifi in /usr/local/lib/python3.11/dist-packages (from httpx) (2025.7.14)\n",
            "Requirement already satisfied: httpcore==1.* in /usr/local/lib/python3.11/dist-packages (from httpx) (1.0.9)\n",
            "Requirement already satisfied: idna in /usr/local/lib/python3.11/dist-packages (from httpx) (3.10)\n",
            "Requirement already satisfied: h11>=0.16 in /usr/local/lib/python3.11/dist-packages (from httpcore==1.*->httpx) (0.16.0)\n",
            "Requirement already satisfied: annotated-types>=0.6.0 in /usr/local/lib/python3.11/dist-packages (from pydantic<3,>=1.9.0->openai) (0.7.0)\n",
            "Requirement already satisfied: pydantic-core==2.33.2 in /usr/local/lib/python3.11/dist-packages (from pydantic<3,>=1.9.0->openai) (2.33.2)\n",
            "Requirement already satisfied: typing-inspection>=0.4.0 in /usr/local/lib/python3.11/dist-packages (from pydantic<3,>=1.9.0->openai) (0.4.1)\n",
            "Downloading decord-0.6.0-py3-none-manylinux2010_x86_64.whl (13.6 MB)\n",
            "\u001b[2K   \u001b[90m━━━━━━━━━━━━━━━━━━━━━━━━━━━━━━━━━━━━━━━━\u001b[0m \u001b[32m13.6/13.6 MB\u001b[0m \u001b[31m118.9 MB/s\u001b[0m eta \u001b[36m0:00:00\u001b[0m\n",
            "\u001b[?25hInstalling collected packages: decord\n",
            "Successfully installed decord-0.6.0\n"
          ]
        }
      ]
    },
    {
      "cell_type": "code",
      "source": [
        "! ls\n"
      ],
      "metadata": {
        "colab": {
          "base_uri": "https://localhost:8080/"
        },
        "id": "XkLktdH3hOrZ",
        "outputId": "0c3ef135-12c6-4f6b-f96d-d0fa0ed51e00"
      },
      "execution_count": 5,
      "outputs": [
        {
          "output_type": "stream",
          "name": "stdout",
          "text": [
            "mcp-tool-api-main  mcp-tool-api-main.zip  sample_data\n"
          ]
        }
      ]
    },
    {
      "cell_type": "code",
      "source": [
        "%cd /content/mcp-tool-api-main/"
      ],
      "metadata": {
        "colab": {
          "base_uri": "https://localhost:8080/"
        },
        "id": "Wk1jMGQsiy6P",
        "outputId": "4f92dc52-555b-4e37-9b18-5ca489fcf762"
      },
      "execution_count": null,
      "outputs": [
        {
          "output_type": "stream",
          "name": "stdout",
          "text": [
            "/content/mcp-tool-api-main\n"
          ]
        }
      ]
    }
  ]
}