{
  "nbformat": 4,
  "nbformat_minor": 0,
  "metadata": {
    "colab": {
      "provenance": [],
      "authorship_tag": "ABX9TyNmjBF+wYA0dh6vrQndcVnN",
      "include_colab_link": true
    },
    "kernelspec": {
      "name": "python3",
      "display_name": "Python 3"
    },
    "language_info": {
      "name": "python"
    }
  },
  "cells": [
    {
      "cell_type": "markdown",
      "metadata": {
        "id": "view-in-github",
        "colab_type": "text"
      },
      "source": [
        "<a href=\"https://colab.research.google.com/github/Nomi-lpr/skills-communicate-using-markdown/blob/main/happy.ipynb\" target=\"_parent\"><img src=\"https://colab.research.google.com/assets/colab-badge.svg\" alt=\"Open In Colab\"/></a>"
      ]
    },
    {
      "cell_type": "code",
      "execution_count": 1,
      "metadata": {
        "colab": {
          "base_uri": "https://localhost:8080/"
        },
        "id": "Fv2pq0W5ZJLQ",
        "outputId": "e9653e73-4045-4684-8865-d7a5f66583a5"
      },
      "outputs": [
        {
          "output_type": "stream",
          "name": "stdout",
          "text": [
            "Archive:  mcp-tool-api-main.zip\n",
            "ba5d5d88f7bab6f7f6d749a14d9633636c3fef94\n",
            "   creating: mcp-tool-api-main/\n",
            "  inflating: mcp-tool-api-main/.gitignore  \n",
            "   creating: mcp-tool-api-main/configs/\n",
            "  inflating: mcp-tool-api-main/configs/both_tools_config.json  \n",
            "  inflating: mcp-tool-api-main/configs/crop_only_config.json  \n",
            " extracting: mcp-tool-api-main/configs/no_tools_config.json  \n",
            "  inflating: mcp-tool-api-main/configs/video_only_config.json  \n",
            "  inflating: mcp-tool-api-main/data_postprocess.py  \n",
            "  inflating: mcp-tool-api-main/main.py  \n",
            "  inflating: mcp-tool-api-main/mcp_api_usage.py  \n",
            "  inflating: mcp-tool-api-main/mcp_utils.py  \n",
            "  inflating: mcp-tool-api-main/recheck_score.py  \n",
            "  inflating: mcp-tool-api-main/tool_test.py  \n",
            "   creating: mcp-tool-api-main/tools/\n",
            " extracting: mcp-tool-api-main/tools/__init__.py  \n",
            "  inflating: mcp-tool-api-main/tools/crop_server.py  \n",
            "  inflating: mcp-tool-api-main/tools/grounding_server.py  \n",
            "  inflating: mcp-tool-api-main/tools/video_server.py  \n",
            "   creating: mcp-tool-api-main/vsi/\n",
            "  inflating: mcp-tool-api-main/vsi/api_price_calculator.py  \n",
            "  inflating: mcp-tool-api-main/vsi/prepare.py  \n",
            "  inflating: mcp-tool-api-main/vsi/record.md  \n",
            "  inflating: mcp-tool-api-main/vsi/subset.py  \n",
            "  inflating: mcp-tool-api-main/vsi/vsi_bench_test.json  \n",
            "  inflating: mcp-tool-api-main/vsi/vsi_bench_test_cost.json  \n",
            "  inflating: mcp-tool-api-main/vsi/vsi_bench_test_subset.json  \n",
            "  inflating: mcp-tool-api-main/vsi_eval.py  \n"
          ]
        }
      ],
      "source": [
        "!unzip mcp-tool-api-main.zip"
      ]
    },
    {
      "cell_type": "code",
      "source": [
        "from google.colab import drive\n",
        "drive.mount('/content/drive')"
      ],
      "metadata": {
        "colab": {
          "base_uri": "https://localhost:8080/"
        },
        "id": "e_BUJNRpZYRv",
        "outputId": "1020d588-bdbe-4c0d-b826-2655aa3c1e30"
      },
      "execution_count": 3,
      "outputs": [
        {
          "output_type": "stream",
          "name": "stdout",
          "text": [
            "Mounted at /content/drive\n"
          ]
        }
      ]
    },
    {
      "cell_type": "code",
      "source": [
        "! ls\n",
        "\n"
      ],
      "metadata": {
        "colab": {
          "base_uri": "https://localhost:8080/"
        },
        "id": "07A0eGTba7SE",
        "outputId": "f707cac1-2376-4240-a7dc-41f80d21d9f4"
      },
      "execution_count": 5,
      "outputs": [
        {
          "output_type": "stream",
          "name": "stdout",
          "text": [
            "drive  mcp-tool-api-main  mcp-tool-api-main.zip  sample_data\n"
          ]
        }
      ]
    },
    {
      "cell_type": "code",
      "source": [
        "!pip install openai httpx numpy decord Pillow"
      ],
      "metadata": {
        "colab": {
          "base_uri": "https://localhost:8080/"
        },
        "id": "VqoLsnKsbEK4",
        "outputId": "0e6f7224-b76a-4245-abb5-225d7b860636"
      },
      "execution_count": 6,
      "outputs": [
        {
          "output_type": "stream",
          "name": "stdout",
          "text": [
            "Requirement already satisfied: openai in /usr/local/lib/python3.11/dist-packages (1.97.1)\n",
            "Requirement already satisfied: httpx in /usr/local/lib/python3.11/dist-packages (0.28.1)\n",
            "Requirement already satisfied: numpy in /usr/local/lib/python3.11/dist-packages (2.0.2)\n",
            "Collecting decord\n",
            "  Downloading decord-0.6.0-py3-none-manylinux2010_x86_64.whl.metadata (422 bytes)\n",
            "Requirement already satisfied: Pillow in /usr/local/lib/python3.11/dist-packages (11.3.0)\n",
            "Requirement already satisfied: anyio<5,>=3.5.0 in /usr/local/lib/python3.11/dist-packages (from openai) (4.9.0)\n",
            "Requirement already satisfied: distro<2,>=1.7.0 in /usr/local/lib/python3.11/dist-packages (from openai) (1.9.0)\n",
            "Requirement already satisfied: jiter<1,>=0.4.0 in /usr/local/lib/python3.11/dist-packages (from openai) (0.10.0)\n",
            "Requirement already satisfied: pydantic<3,>=1.9.0 in /usr/local/lib/python3.11/dist-packages (from openai) (2.11.7)\n",
            "Requirement already satisfied: sniffio in /usr/local/lib/python3.11/dist-packages (from openai) (1.3.1)\n",
            "Requirement already satisfied: tqdm>4 in /usr/local/lib/python3.11/dist-packages (from openai) (4.67.1)\n",
            "Requirement already satisfied: typing-extensions<5,>=4.11 in /usr/local/lib/python3.11/dist-packages (from openai) (4.14.1)\n",
            "Requirement already satisfied: certifi in /usr/local/lib/python3.11/dist-packages (from httpx) (2025.7.14)\n",
            "Requirement already satisfied: httpcore==1.* in /usr/local/lib/python3.11/dist-packages (from httpx) (1.0.9)\n",
            "Requirement already satisfied: idna in /usr/local/lib/python3.11/dist-packages (from httpx) (3.10)\n",
            "Requirement already satisfied: h11>=0.16 in /usr/local/lib/python3.11/dist-packages (from httpcore==1.*->httpx) (0.16.0)\n",
            "Requirement already satisfied: annotated-types>=0.6.0 in /usr/local/lib/python3.11/dist-packages (from pydantic<3,>=1.9.0->openai) (0.7.0)\n",
            "Requirement already satisfied: pydantic-core==2.33.2 in /usr/local/lib/python3.11/dist-packages (from pydantic<3,>=1.9.0->openai) (2.33.2)\n",
            "Requirement already satisfied: typing-inspection>=0.4.0 in /usr/local/lib/python3.11/dist-packages (from pydantic<3,>=1.9.0->openai) (0.4.1)\n",
            "Downloading decord-0.6.0-py3-none-manylinux2010_x86_64.whl (13.6 MB)\n",
            "\u001b[2K   \u001b[90m━━━━━━━━━━━━━━━━━━━━━━━━━━━━━━━━━━━━━━━━\u001b[0m \u001b[32m13.6/13.6 MB\u001b[0m \u001b[31m90.6 MB/s\u001b[0m eta \u001b[36m0:00:00\u001b[0m\n",
            "\u001b[?25hInstalling collected packages: decord\n",
            "Successfully installed decord-0.6.0\n"
          ]
        }
      ]
    },
    {
      "cell_type": "code",
      "source": [
        "%cd /content/mcp-tool-api-main/"
      ],
      "metadata": {
        "colab": {
          "base_uri": "https://localhost:8080/"
        },
        "id": "Sp_3fSwobTLE",
        "outputId": "9afec180-6f6c-4f6a-8dfc-059ba054814f"
      },
      "execution_count": 7,
      "outputs": [
        {
          "output_type": "stream",
          "name": "stdout",
          "text": [
            "/content/mcp-tool-api-main\n"
          ]
        }
      ]
    },
    {
      "cell_type": "code",
      "source": [
        "!pip install mcp==1.9.1"
      ],
      "metadata": {
        "colab": {
          "base_uri": "https://localhost:8080/"
        },
        "id": "B0iFIkOccw5S",
        "outputId": "d2b58e83-e4f1-430e-9ab9-3456e491e327"
      },
      "execution_count": 10,
      "outputs": [
        {
          "output_type": "stream",
          "name": "stdout",
          "text": [
            "Collecting mcp==1.9.1\n",
            "  Downloading mcp-1.9.1-py3-none-any.whl.metadata (27 kB)\n",
            "Requirement already satisfied: anyio>=4.5 in /usr/local/lib/python3.11/dist-packages (from mcp==1.9.1) (4.9.0)\n",
            "Collecting httpx-sse>=0.4 (from mcp==1.9.1)\n",
            "  Downloading httpx_sse-0.4.1-py3-none-any.whl.metadata (9.4 kB)\n",
            "Requirement already satisfied: httpx>=0.27 in /usr/local/lib/python3.11/dist-packages (from mcp==1.9.1) (0.28.1)\n",
            "Collecting pydantic-settings>=2.5.2 (from mcp==1.9.1)\n",
            "  Downloading pydantic_settings-2.10.1-py3-none-any.whl.metadata (3.4 kB)\n",
            "Requirement already satisfied: pydantic<3.0.0,>=2.7.2 in /usr/local/lib/python3.11/dist-packages (from mcp==1.9.1) (2.11.7)\n",
            "Requirement already satisfied: python-multipart>=0.0.9 in /usr/local/lib/python3.11/dist-packages (from mcp==1.9.1) (0.0.20)\n",
            "Collecting sse-starlette>=1.6.1 (from mcp==1.9.1)\n",
            "  Downloading sse_starlette-3.0.2-py3-none-any.whl.metadata (11 kB)\n",
            "Requirement already satisfied: starlette>=0.27 in /usr/local/lib/python3.11/dist-packages (from mcp==1.9.1) (0.47.2)\n",
            "Requirement already satisfied: uvicorn>=0.23.1 in /usr/local/lib/python3.11/dist-packages (from mcp==1.9.1) (0.35.0)\n",
            "Requirement already satisfied: idna>=2.8 in /usr/local/lib/python3.11/dist-packages (from anyio>=4.5->mcp==1.9.1) (3.10)\n",
            "Requirement already satisfied: sniffio>=1.1 in /usr/local/lib/python3.11/dist-packages (from anyio>=4.5->mcp==1.9.1) (1.3.1)\n",
            "Requirement already satisfied: typing_extensions>=4.5 in /usr/local/lib/python3.11/dist-packages (from anyio>=4.5->mcp==1.9.1) (4.14.1)\n",
            "Requirement already satisfied: certifi in /usr/local/lib/python3.11/dist-packages (from httpx>=0.27->mcp==1.9.1) (2025.7.14)\n",
            "Requirement already satisfied: httpcore==1.* in /usr/local/lib/python3.11/dist-packages (from httpx>=0.27->mcp==1.9.1) (1.0.9)\n",
            "Requirement already satisfied: h11>=0.16 in /usr/local/lib/python3.11/dist-packages (from httpcore==1.*->httpx>=0.27->mcp==1.9.1) (0.16.0)\n",
            "Requirement already satisfied: annotated-types>=0.6.0 in /usr/local/lib/python3.11/dist-packages (from pydantic<3.0.0,>=2.7.2->mcp==1.9.1) (0.7.0)\n",
            "Requirement already satisfied: pydantic-core==2.33.2 in /usr/local/lib/python3.11/dist-packages (from pydantic<3.0.0,>=2.7.2->mcp==1.9.1) (2.33.2)\n",
            "Requirement already satisfied: typing-inspection>=0.4.0 in /usr/local/lib/python3.11/dist-packages (from pydantic<3.0.0,>=2.7.2->mcp==1.9.1) (0.4.1)\n",
            "Collecting python-dotenv>=0.21.0 (from pydantic-settings>=2.5.2->mcp==1.9.1)\n",
            "  Downloading python_dotenv-1.1.1-py3-none-any.whl.metadata (24 kB)\n",
            "Requirement already satisfied: click>=7.0 in /usr/local/lib/python3.11/dist-packages (from uvicorn>=0.23.1->mcp==1.9.1) (8.2.1)\n",
            "Downloading mcp-1.9.1-py3-none-any.whl (130 kB)\n",
            "\u001b[2K   \u001b[90m━━━━━━━━━━━━━━━━━━━━━━━━━━━━━━━━━━━━━━━━\u001b[0m \u001b[32m130.3/130.3 kB\u001b[0m \u001b[31m5.2 MB/s\u001b[0m eta \u001b[36m0:00:00\u001b[0m\n",
            "\u001b[?25hDownloading httpx_sse-0.4.1-py3-none-any.whl (8.1 kB)\n",
            "Downloading pydantic_settings-2.10.1-py3-none-any.whl (45 kB)\n",
            "\u001b[2K   \u001b[90m━━━━━━━━━━━━━━━━━━━━━━━━━━━━━━━━━━━━━━━━\u001b[0m \u001b[32m45.2/45.2 kB\u001b[0m \u001b[31m3.2 MB/s\u001b[0m eta \u001b[36m0:00:00\u001b[0m\n",
            "\u001b[?25hDownloading sse_starlette-3.0.2-py3-none-any.whl (11 kB)\n",
            "Downloading python_dotenv-1.1.1-py3-none-any.whl (20 kB)\n",
            "Installing collected packages: python-dotenv, httpx-sse, sse-starlette, pydantic-settings, mcp\n",
            "Successfully installed httpx-sse-0.4.1 mcp-1.9.1 pydantic-settings-2.10.1 python-dotenv-1.1.1 sse-starlette-3.0.2\n"
          ]
        }
      ]
    },
    {
      "cell_type": "code",
      "source": [
        "import asyncio\n",
        "import json\n",
        "import os\n",
        "from mcp_api_usage import MCPClient\n",
        "from mcp_utils import format_conversation"
      ],
      "metadata": {
        "id": "YTOcrxXDdACz"
      },
      "execution_count": 11,
      "outputs": []
    },
    {
      "cell_type": "code",
      "source": [
        "VIDEO_DIR = \"./my_videos/\""
      ],
      "metadata": {
        "id": "-_WRxxYpdGwe"
      },
      "execution_count": 12,
      "outputs": []
    },
    {
      "cell_type": "code",
      "source": [
        "# --- 将这里的值替换成您从火山引擎获取的真实凭证 ---\n",
        "\n",
        "# 1. 替换成您的火山引擎API Key\n",
        "os.environ[\"OPENAI_API_KEY\"] = \"f387cf21-352d-4486-a88c-b017147acacd\"  # <--- 替换\n",
        "\n",
        "\n",
        "# 2. 设置火山引擎的Base URL (注意：末尾的斜杠要去掉，因为openai库会自动拼接)\n",
        "os.environ[\"OPENAI_BASE_URL\"] = \"https://ark.cn-beijing.volces.com/api/v3\" # <--- 替换\n",
        "\n",
        "# 3. 替换成您想使用的火山引擎模型的ID\n",
        "os.environ[\"OPENAI_MODEL\"] = \"Doubao-Seed-1.6-thinking\"  # <--- 替换\n"
      ],
      "metadata": {
        "id": "IXz9nPe3egtT"
      },
      "execution_count": 13,
      "outputs": []
    },
    {
      "cell_type": "code",
      "source": [
        "# 3. 原始的 load_data 和 edit_data 函数可以保留或删除，因为我们不再调用它们\n",
        "\n",
        "def edit_data(data, tool_name):\n",
        "    for item in data:\n",
        "        item[\"question\"] = f\"Use the tool {tool_name} to answer the question: {item['question']}\"\n",
        "    return data\n",
        "\n",
        "def load_data(data, tool_name):\n",
        "    if tool_name==\"crop\":\n",
        "        data=[{\n",
        "            \"id\": 5123,\n",
        "            \"dataset\": \"arkitscenes\",\n",
        "            \"scene_name\": \"47331668\",\n",
        "            \"question_type\": \"crop\",\n",
        "            \"question\": \"How many people appears in the poster titled blackmail in this room? Use the tool crop to answer the question. You should pick the related image to pass back to the tool.\",\n",
        "            \"ground_truth\": \"D\",\n",
        "            \"options\": [\n",
        "              \"A. 1\",\n",
        "              \"B. 2\",\n",
        "              \"C. 3\",\n",
        "              \"D. 4\"\n",
        "            ],\n",
        "            \"video_path\": \"arkitscenes/47331668.mp4\"\n",
        "        }]\n",
        "    elif tool_name==\"extract_video_segment\":\n",
        "        data=[{\n",
        "            \"id\": 5123,\n",
        "            \"dataset\": \"arkitscenes\",\n",
        "            \"scene_name\": \"47331668\",\n",
        "            \"question\": f\"You MUST use the tool extract_video_segment to look closer at the video to answer the following question. You should pick the related moment or frame index to pass back to the tool. {data[0]['question']}\",\n",
        "            \"ground_truth\": \"I dont know either.\",\n",
        "            \"video_path\": \"arkitscenes/47331668.mp4\",\n",
        "        }]\n",
        "    return data\n",
        "\n",
        "\n",
        "async def main():\n",
        "    # --- 使用您自己的数据和Prompt ---\n",
        "\n",
        "    # a. 定义您的视频文件名\n",
        "    my_video_filename = \"my_test_video.mp4\"  # <--- 请确保这个名字和您上传的视频文件名一致\n",
        "\n",
        "    # b. 【核心】在这里修改和实验您的Prompt！\n",
        "    my_prompt = \"视频里那个快速移动的物体是什么？请使用工具仔细观察。\"\n",
        "\n",
        "    # c. 将您的数据构造成脚本需要的格式\n",
        "    data = [{\n",
        "        \"id\": 9999,  # 可以是任意ID\n",
        "        \"question\": my_prompt,\n",
        "        \"video_path\": my_video_filename\n",
        "    }]\n",
        "\n",
        "    # --- 原有测试逻辑保持不变 ---\n",
        "\n",
        "    # 初始化MCP client\n",
        "    mcp_client = MCPClient()\n",
        "    try:\n",
        "        await mcp_client.initialize()\n",
        "\n",
        "        # 遍历数据（我们的例子里只有一条）\n",
        "        for i, item in enumerate(data):\n",
        "            print(f\"\\n=== 正在处理第 {i+1}/{len(data)} 项测试 ===\")\n",
        "\n",
        "            # 为每个测试项创建一个独立的会话\n",
        "            session = mcp_client.create_session()\n",
        "\n",
        "            question = item[\"question\"]\n",
        "            # 使用我们定义的视频路径和问题进行查询\n",
        "            result = await session.query(\n",
        "                question,\n",
        "                video_paths=[os.path.join(VIDEO_DIR, item[\"video_path\"])],\n",
        "                image_paths=None\n",
        "            )\n",
        "\n",
        "            print(f\"会话ID: {result['session_id']}\")\n",
        "            print(\"--- 对话全过程 ---\")\n",
        "            print(format_conversation(result[\"conversation\"], verbose=True))\n",
        "\n",
        "            # 程序会在这里暂停，让您进入调试模式检查变量\n",
        "            print(\"\\n--- 程序已暂停，进入调试模式 (Pdb) ---\")\n",
        "            print(\"您可以输入 'result' 查看返回结果，或输入 'c' 继续运行，输入 'q' 退出。\")\n",
        "            breakpoint()\n",
        "\n",
        "    finally:\n",
        "        # 清理所有资源\n",
        "        await mcp_client.cleanup()\n",
        "        print(\"\\n--- 测试结束，资源已清理 ---\")\n",
        "\n"
      ],
      "metadata": {
        "id": "UBzS_DCvfvyR"
      },
      "execution_count": 15,
      "outputs": []
    },
    {
      "cell_type": "code",
      "source": [
        "if __name__ == \"__main__\":\n",
        "    asyncio.run(main())"
      ],
      "metadata": {
        "colab": {
          "base_uri": "https://localhost:8080/",
          "height": 287
        },
        "id": "E2ZzAWpXgFKw",
        "outputId": "a741a589-2e97-4bf0-f0da-2b6049297966"
      },
      "execution_count": 16,
      "outputs": [
        {
          "output_type": "error",
          "ename": "RuntimeError",
          "evalue": "asyncio.run() cannot be called from a running event loop",
          "traceback": [
            "\u001b[0;31m---------------------------------------------------------------------------\u001b[0m",
            "\u001b[0;31mRuntimeError\u001b[0m                              Traceback (most recent call last)",
            "\u001b[0;32m/tmp/ipython-input-16-1966905145.py\u001b[0m in \u001b[0;36m<cell line: 0>\u001b[0;34m()\u001b[0m\n\u001b[1;32m      1\u001b[0m \u001b[0;32mif\u001b[0m \u001b[0m__name__\u001b[0m \u001b[0;34m==\u001b[0m \u001b[0;34m\"__main__\"\u001b[0m\u001b[0;34m:\u001b[0m\u001b[0;34m\u001b[0m\u001b[0;34m\u001b[0m\u001b[0m\n\u001b[0;32m----> 2\u001b[0;31m     \u001b[0masyncio\u001b[0m\u001b[0;34m.\u001b[0m\u001b[0mrun\u001b[0m\u001b[0;34m(\u001b[0m\u001b[0mmain\u001b[0m\u001b[0;34m(\u001b[0m\u001b[0;34m)\u001b[0m\u001b[0;34m)\u001b[0m\u001b[0;34m\u001b[0m\u001b[0;34m\u001b[0m\u001b[0m\n\u001b[0m",
            "\u001b[0;32m/usr/lib/python3.11/asyncio/runners.py\u001b[0m in \u001b[0;36mrun\u001b[0;34m(main, debug)\u001b[0m\n\u001b[1;32m    184\u001b[0m     \u001b[0;32mif\u001b[0m \u001b[0mevents\u001b[0m\u001b[0;34m.\u001b[0m\u001b[0m_get_running_loop\u001b[0m\u001b[0;34m(\u001b[0m\u001b[0;34m)\u001b[0m \u001b[0;32mis\u001b[0m \u001b[0;32mnot\u001b[0m \u001b[0;32mNone\u001b[0m\u001b[0;34m:\u001b[0m\u001b[0;34m\u001b[0m\u001b[0;34m\u001b[0m\u001b[0m\n\u001b[1;32m    185\u001b[0m         \u001b[0;31m# fail fast with short traceback\u001b[0m\u001b[0;34m\u001b[0m\u001b[0;34m\u001b[0m\u001b[0m\n\u001b[0;32m--> 186\u001b[0;31m         raise RuntimeError(\n\u001b[0m\u001b[1;32m    187\u001b[0m             \"asyncio.run() cannot be called from a running event loop\")\n\u001b[1;32m    188\u001b[0m \u001b[0;34m\u001b[0m\u001b[0m\n",
            "\u001b[0;31mRuntimeError\u001b[0m: asyncio.run() cannot be called from a running event loop"
          ]
        }
      ]
    }
  ]
}